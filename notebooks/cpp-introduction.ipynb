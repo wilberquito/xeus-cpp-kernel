{
 "cells": [
  {
   "cell_type": "markdown",
   "id": "a29aef11-9167-479a-9aa8-7d4b72366261",
   "metadata": {},
   "source": [
    "# Introduction to Programming in C++"
   ]
  },
  {
   "cell_type": "markdown",
   "id": "8e696168-2b72-42ac-a2f5-16d7f0059d21",
   "metadata": {},
   "source": [
    "## Definitions"
   ]
  },
  {
   "cell_type": "markdown",
   "id": "f36aaec2-5a41-412d-b2d3-7af2f1b943bf",
   "metadata": {},
   "source": [
    "Before digging into code examples and programs written in C++ we\n",
    "need to define what an _**algorithm**_, a _**programming language**_ and a _**computer program**_ are."
   ]
  },
  {
   "cell_type": "markdown",
   "id": "a63e530d-9aac-483f-942e-16f853035db5",
   "metadata": {},
   "source": [
    "### Algorithm"
   ]
  },
  {
   "cell_type": "markdown",
   "id": "ec3dc98a-0fa1-4b87-b717-2bc922ff9475",
   "metadata": {},
   "source": [
    "An algorithm is a method or function for solving a problem. \n",
    "From the imperative point of view, an algorithm is usually described as a sequence of steps. \n",
    "But other paradigms such as the functional one defines an algorithm as a composition of pure functions\n",
    "that operates on inmutable data without side-effects.\n",
    "\n",
    "In this course we will use the first definition, as we are working with C++ with is a clearly imperative programming language."
   ]
  },
  {
   "cell_type": "markdown",
   "id": "7d8f46b8-a68b-49b6-a2cb-8aac2313e37c",
   "metadata": {},
   "source": [
    "### Programming language"
   ]
  },
  {
   "cell_type": "markdown",
   "id": "c3ce12df-617e-4bc7-b401-bbb0e525cf63",
   "metadata": {},
   "source": [
    "A programming language is a language used to describe a program that must be understood by a computer.\n",
    "\n",
    "A programming langue has:\n",
    "\n",
    "- Data (numbers, strings, complex-structures, ...)\n",
    "- Instructions (arithmetic, sequence, repetition, ...)\n",
    "\n",
    "\n",
    "A programming languge has its own syntax and semantics, depending on the programming\n",
    "language it is very strict or no, but it must be understood by a computer."
   ]
  },
  {
   "cell_type": "markdown",
   "id": "577d300b-6bc6-4ba9-a56e-4f265052a20c",
   "metadata": {},
   "source": [
    "### Computer Program"
   ]
  },
  {
   "cell_type": "markdown",
   "id": "4c8005c5-eb09-43eb-813b-d5eb4102a717",
   "metadata": {},
   "source": [
    "A computer program is an algorithm written in a programming language to solve a problem.\n",
    "\n",
    "What kind of algorithm can be written? For instance:\n",
    "\n",
    "- Calculate the square root of a number\n",
    "- Play a music file\n",
    "- Find the shortest path between two cities\n",
    "- $\\cdots$\n",
    "\n",
    "Yet not all poblems have an algorithm to solve them. \n",
    "And not all algorithms have the same complexity nor problems are of the same complexity class."
   ]
  },
  {
   "cell_type": "markdown",
   "id": "7711320f-87e9-45fe-bf60-455f300670fd",
   "metadata": {},
   "source": [
    "## Input and output"
   ]
  },
  {
   "cell_type": "markdown",
   "id": "48233661-2afe-4423-81d0-dbb78be94530",
   "metadata": {},
   "source": [
    "This program reads two numbers and writes their sum."
   ]
  },
  {
   "cell_type": "code",
   "execution_count": 1,
   "id": "c956bab9-0a69-4399-9493-8cfa64ae7692",
   "metadata": {
    "scrolled": true
   },
   "outputs": [],
   "source": [
    "#include <iostream>\n",
    "\n",
    "int main() {\n",
    "    int x, y;\n",
    "    std::cin >> x >> y;\n",
    "    int s = x + y;\n",
    "    std::cout << s << std::endl;\n",
    "\n",
    "    return 0;\n",
    "}"
   ]
  },
  {
   "cell_type": "code",
   "execution_count": 2,
   "id": "ae971186-9e5d-4ec8-8ec1-d1fad2596234",
   "metadata": {},
   "outputs": [
    {
     "name": "stdin",
     "output_type": "stream",
     "text": [
      " 2 2\n"
     ]
    },
    {
     "name": "stdout",
     "output_type": "stream",
     "text": [
      "4\n"
     ]
    },
    {
     "data": {
      "text/plain": [
       "0"
      ]
     },
     "execution_count": 2,
     "metadata": {},
     "output_type": "execute_result"
    }
   ],
   "source": [
    "main()"
   ]
  },
  {
   "cell_type": "markdown",
   "id": "fbb0956a-c02d-4ea0-aed9-01486870b680",
   "metadata": {},
   "source": [
    "## main()"
   ]
  },
  {
   "cell_type": "markdown",
   "id": "f3dd9522-1377-4f2a-b691-abb0fd3688a8",
   "metadata": {},
   "source": [
    "Notice that we use the commands `cin` to read from the standard input (keyboard)\n",
    "and `cout` to print values in the standard output (screen)."
   ]
  },
  {
   "cell_type": "markdown",
   "id": "1f45bba6-bf71-46af-8bda-50f3c902ebb6",
   "metadata": {},
   "source": [
    "## Calculate $x^y$"
   ]
  },
  {
   "cell_type": "markdown",
   "id": "f8d51816-b93d-4c9b-b6cd-bf7d3f6a5fb5",
   "metadata": {},
   "source": [
    "Computing the potence of $x^y$ means multipling $x$ a total of $y$ times:\n",
    "\n",
    "$$\n",
    "\\underbrace{x \\times x \\times x \\times \\dots x}_{y \\text{\\ times}}\n",
    "$$\n",
    "\n",
    "To do things easely lets define $x \\in \\mathbb{R}$ and $y \\in \\mathbb{N}$."
   ]
  },
  {
   "cell_type": "code",
   "execution_count": 10,
   "id": "76cba244-4c8d-41aa-bfa8-29a09be5cb91",
   "metadata": {},
   "outputs": [],
   "source": [
    "#include <iostream>\n",
    "\n",
    "int main() {\n",
    "    int x, y;\n",
    "    std::cin >> x >> y;\n",
    "\n",
    "    int i = 0;\n",
    "    int p = 1;\n",
    "\n",
    "    while (i < y) {\n",
    "        i = i + 1;\n",
    "        p = p * x;\n",
    "    }\n",
    "\n",
    "    std::cout << p << std::endl;\n",
    "}"
   ]
  },
  {
   "cell_type": "code",
   "execution_count": 12,
   "id": "f3ca7b59-2b0e-4a77-9ae9-658ac720bc17",
   "metadata": {},
   "outputs": [
    {
     "name": "stdin",
     "output_type": "stream",
     "text": [
      " 2 7\n"
     ]
    },
    {
     "name": "stdout",
     "output_type": "stream",
     "text": [
      "128\n"
     ]
    },
    {
     "data": {
      "text/plain": [
       "0"
      ]
     },
     "execution_count": 12,
     "metadata": {},
     "output_type": "execute_result"
    }
   ],
   "source": [
    "main()"
   ]
  },
  {
   "cell_type": "code",
   "execution_count": 13,
   "id": "664ce207-b923-48df-bff6-e6f4c521c0e9",
   "metadata": {},
   "outputs": [
    {
     "name": "stdin",
     "output_type": "stream",
     "text": [
      " 10 3\n"
     ]
    },
    {
     "name": "stdout",
     "output_type": "stream",
     "text": [
      "1000\n"
     ]
    },
    {
     "data": {
      "text/plain": [
       "0"
      ]
     },
     "execution_count": 13,
     "metadata": {},
     "output_type": "execute_result"
    }
   ],
   "source": [
    "main()"
   ]
  },
  {
   "cell_type": "markdown",
   "id": "72d5c812-e60b-469e-bf10-f3020dcf3c0b",
   "metadata": {},
   "source": [
    "## Prime factor"
   ]
  },
  {
   "cell_type": "markdown",
   "id": "d689332f-3b6f-493f-92da-56a218896cc4",
   "metadata": {},
   "source": [
    "Let's create an algorithm that decompose numers into its prime factors. \n",
    "For instance, the prime numbers of number $350$ are $\\{2, 5, 5, 7\\}$."
   ]
  },
  {
   "cell_type": "markdown",
   "id": "b0283263-90b7-4a3f-970f-6d5726f0d2cf",
   "metadata": {},
   "source": [
    "### Algorithm description"
   ]
  },
  {
   "cell_type": "markdown",
   "id": "6f22b3f3-93d1-464c-a7c0-fbc0187d4b84",
   "metadata": {},
   "source": [
    "- Try all potential divisiors of number $n$ starting from the divisor $d = 2$\n",
    "    - If the number $n$ is divisible by $d$, divide $n$ by $d$ and try again the same divisor $d$ against the result\n",
    "    - If not divisible, go to the next divisor\n",
    "- Keep dividing until the number $n$ becomes $1$\n",
    "\n",
    "Notice that $n$ and $d$ $\\in \\mathbb{N}$."
   ]
  },
  {
   "cell_type": "code",
   "execution_count": 7,
   "id": "2fed21b6-17b7-47b6-8c34-f9c95e1844a1",
   "metadata": {},
   "outputs": [],
   "source": [
    "#include <iostream>\n",
    "\n",
    "int main() {\n",
    "    \n",
    "    int n;\n",
    "    int d = 2;\n",
    "\n",
    "    std::cin >> n;\n",
    "\n",
    "    while (n != 1) {\n",
    "        if (n % d == 0) {\n",
    "            // d is a divisor of n\n",
    "            std::cout << d << \" \";\n",
    "            n = n / d;\n",
    "        } \n",
    "        else {\n",
    "            // d is not divisor of n, so we try a new divisor\n",
    "            d = d + 1;\n",
    "        }\n",
    "    }\n",
    "\n",
    "    return 0;\n",
    "}\n"
   ]
  },
  {
   "cell_type": "code",
   "execution_count": 8,
   "id": "241d73cb-735f-47f5-b493-918fd4094086",
   "metadata": {},
   "outputs": [
    {
     "name": "stdin",
     "output_type": "stream",
     "text": [
      " 350\n"
     ]
    },
    {
     "name": "stdout",
     "output_type": "stream",
     "text": [
      "2 5 5 7 "
     ]
    },
    {
     "data": {
      "text/plain": [
       "0"
      ]
     },
     "execution_count": 8,
     "metadata": {},
     "output_type": "execute_result"
    }
   ],
   "source": [
    "main()"
   ]
  },
  {
   "cell_type": "markdown",
   "id": "0db9b9bb-6d03-42b2-b3af-0a6452aafac1",
   "metadata": {},
   "source": [
    "**QUESTION: This algorithm only yields prime factors (an not non-prime factors). Why?**\n",
    "\n",
    "<details>\n",
    "    <summary><i>Toggle to check response</i></summary>\n",
    "\n",
    "</br>\n",
    "\n",
    "\n",
    "\n",
    "The algorithm starts with $d = 2$, the smallest prime number. \n",
    "If $n$ is divisible by $d$, $d$ is a factor and is printed. After dividing $n$ by $d$, the algorithm continues with the new value of $n$.\n",
    "\n",
    "The key point is that once all factors of $d = 2$ are extracted, $d$ is incremented to $3$, then $4$, and so on. If $d$ is a composite number (e.g., 4), by the time the algorithm reaches $d$, all smaller prime factors (e.g., 2) have already been extracted from $n$. \n",
    "\n",
    "Therefore, $n$ is no longer divisible by composite numbers like 4, 6, 8, etc., because those would have been divisible by smaller primes that were already factored out.\n",
    "</details>"
   ]
  }
 ],
 "metadata": {
  "kernelspec": {
   "display_name": "C++11",
   "language": "C++11",
   "name": "xcpp11"
  },
  "language_info": {
   "codemirror_mode": "text/x-c++src",
   "file_extension": ".cpp",
   "mimetype": "text/x-c++src",
   "name": "c++",
   "version": "11"
  }
 },
 "nbformat": 4,
 "nbformat_minor": 5
}
